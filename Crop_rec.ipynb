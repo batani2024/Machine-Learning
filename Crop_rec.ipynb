{
  "nbformat": 4,
  "nbformat_minor": 0,
  "metadata": {
    "colab": {
      "provenance": []
    },
    "kernelspec": {
      "name": "python3",
      "display_name": "Python 3"
    },
    "language_info": {
      "name": "python"
    }
  },
  "cells": [
    {
      "cell_type": "code",
      "execution_count": null,
      "metadata": {
        "colab": {
          "base_uri": "https://localhost:8080/"
        },
        "id": "_Qse7Alu1F4p",
        "outputId": "1ccf85f8-66ab-408f-9c73-bf6d2d874a2a"
      },
      "outputs": [
        {
          "output_type": "stream",
          "name": "stdout",
          "text": [
            "Average Parameters per Crop:\n",
            "                     temperature   humidity    rainfall\n",
            "label                                                  \n",
            "anggur                 23.849575  81.875228   69.611829\n",
            "apel                   22.630942  92.333383  112.654779\n",
            "delima                 21.837842  90.125504  107.528442\n",
            "goni                   24.958376  79.639864  174.792798\n",
            "jagung                 22.389204  65.092249   84.766988\n",
            "jeruk                  22.765725  92.170209  110.474969\n",
            "kacang_arab            18.872847  16.860439   80.058977\n",
            "kacang_bali            27.741762  48.061633  149.457564\n",
            "kacang_hijau           28.525775  85.499975   48.403601\n",
            "kacang_lentil          24.509052  64.804785   45.680454\n",
            "kacang_lentil_hitam    29.973340  65.118426   67.884151\n",
            "kacang_mat             28.194920  53.160418   51.198487\n",
            "kacang_merah           20.115085  21.605357  105.919778\n",
            "kapas                  23.988958  79.843474   80.398043\n",
            "kelapa                 27.409892  94.844272  175.686646\n",
            "kopi                   25.540477  58.869846  158.066295\n",
            "mangga                 31.208770  50.156573   94.704515\n",
            "melon_musk             28.663066  92.342802   24.689952\n",
            "padi                   23.689332  82.272822  236.181114\n",
            "pepaya                 33.723859  92.403388  142.627839\n",
            "pisang                 27.376798  80.358123  104.626980\n",
            "semangka               25.591767  85.160375   50.786219\n",
            "\n",
            "Parameter Ranges for Validation:\n",
            "     temperature   humidity    rainfall\n",
            "min     8.825675  14.258040   20.211267\n",
            "max    43.675493  99.981876  298.560117\n"
          ]
        }
      ],
      "source": [
        "import pandas as pd\n",
        "import tensorflow as tf\n",
        "from sklearn.preprocessing import LabelEncoder, RobustScaler\n",
        "from sklearn.model_selection import train_test_split\n",
        "import numpy as np\n",
        "import matplotlib.pyplot as plt\n",
        "\n",
        "# Load dataset\n",
        "df = pd.read_excel(\"https://docs.google.com/spreadsheets/d/1CxwkO90vNNmUyPHoZxNpsng6rRTneVYv/export?format=xlsx\")\n",
        "\n",
        "# Encode labels dengan LabelEncoder\n",
        "label_encoder = LabelEncoder()\n",
        "df['encoded_label'] = label_encoder.fit_transform(df['label'])\n",
        "\n",
        "# Hitung average dan range parameter untuk setiap tanaman\n",
        "average_values = df.groupby('label')[['temperature', 'humidity', 'rainfall']].mean()\n",
        "parameter_ranges = df[['temperature', 'humidity', 'rainfall']].agg(['min', 'max'])\n",
        "\n",
        "# Print average dan range sebagai referensi\n",
        "print(\"Average Parameters per Crop:\")\n",
        "print(average_values)\n",
        "print(\"\\nParameter Ranges for Validation:\")\n",
        "print(parameter_ranges)\n",
        "\n",
        "# Fitur dan label\n",
        "X = df[['temperature', 'humidity', 'rainfall']]\n",
        "y = df['encoded_label']\n",
        "\n",
        "# Split data menjadi training, validation, dan test\n",
        "X_train_val, X_test, y_train_val, y_test = train_test_split(X, y, test_size=0.2, random_state=42)\n",
        "X_train, X_val, y_train, y_val = train_test_split(X_train_val, y_train_val, test_size=0.25, random_state=42)\n",
        "\n",
        "# Normalisasi data dengan RobustScaler\n",
        "scaler = RobustScaler()\n",
        "X_train = scaler.fit_transform(X_train)\n",
        "X_val = scaler.transform(X_val)\n",
        "X_test = scaler.transform(X_test)\n",
        "\n",
        "# Membuat dataset untuk TensorFlow\n",
        "BATCH_SIZE = 32\n",
        "\n",
        "train_dataset = tf.data.Dataset.from_tensor_slices((X_train, y_train)).shuffle(len(X_train)).batch(BATCH_SIZE).prefetch(buffer_size=tf.data.AUTOTUNE)\n",
        "val_dataset = tf.data.Dataset.from_tensor_slices((X_val, y_val)).batch(BATCH_SIZE).prefetch(buffer_size=tf.data.AUTOTUNE)\n",
        "test_dataset = tf.data.Dataset.from_tensor_slices((X_test, y_test)).batch(BATCH_SIZE).prefetch(buffer_size=tf.data.AUTOTUNE)\n"
      ]
    },
    {
      "cell_type": "code",
      "source": [],
      "metadata": {
        "id": "yVEcH320dC8Z"
      },
      "execution_count": null,
      "outputs": []
    },
    {
      "cell_type": "code",
      "source": [
        "# Membangun model TensorFlow\n",
        "model = tf.keras.Sequential([\n",
        "    tf.keras.layers.InputLayer(input_shape=(X_train.shape[1],)),\n",
        "    #tf.keras.layers.Dense(16, activation='relu'),\n",
        "    tf.keras.layers.Dense(32, activation='relu'),\n",
        "    tf.keras.layers.Dense(64, activation='relu'),\n",
        "    tf.keras.layers.Dense(128, activation='relu'),\n",
        "    tf.keras.layers.BatchNormalization(),\n",
        "    tf.keras.layers.Dropout(0.2),\n",
        "    tf.keras.layers.Dense(len(y.unique()), activation='softmax')  # Output layer\n",
        "])\n",
        "\n",
        "model.compile(optimizer=tf.keras.optimizers.Adam(learning_rate=0.001),\n",
        "              loss='sparse_categorical_crossentropy',\n",
        "              metrics=['accuracy'])\n",
        "\n",
        "# Callback untuk early stopping\n",
        "callback = tf.keras.callbacks.EarlyStopping(monitor='val_loss', patience=10, restore_best_weights=True)\n",
        "\n",
        "# Melatih model\n",
        "history = model.fit(\n",
        "    train_dataset,\n",
        "    validation_data=val_dataset,\n",
        "    epochs=50,\n",
        "    callbacks=[callback]\n",
        ")\n",
        "\n",
        "# Evaluasi model\n",
        "test_loss, test_accuracy = model.evaluate(test_dataset)\n",
        "print(f\"Test Accuracy: {test_accuracy:.2f}\")\n",
        "\n",
        "# Plot akurasi dan loss\n",
        "plt.plot(history.history['accuracy'], label='Training Accuracy')\n",
        "plt.plot(history.history['val_accuracy'], label='Validation Accuracy')\n",
        "plt.plot(history.history['loss'], label='Training Loss')\n",
        "plt.plot(history.history['val_loss'], label='Validation Loss')\n",
        "plt.xlabel('Epochs')\n",
        "plt.ylabel('Metrics')\n",
        "plt.legend()\n",
        "plt.show()"
      ],
      "metadata": {
        "colab": {
          "base_uri": "https://localhost:8080/",
          "height": 1000
        },
        "id": "-lLJSeRAyZ9-",
        "outputId": "61544c6b-2566-417c-e2bf-141eb23eb23e"
      },
      "execution_count": null,
      "outputs": [
        {
          "output_type": "stream",
          "name": "stdout",
          "text": [
            "Epoch 1/50\n"
          ]
        },
        {
          "output_type": "stream",
          "name": "stderr",
          "text": [
            "/usr/local/lib/python3.10/dist-packages/keras/src/layers/core/input_layer.py:26: UserWarning: Argument `input_shape` is deprecated. Use `shape` instead.\n",
            "  warnings.warn(\n"
          ]
        },
        {
          "output_type": "stream",
          "name": "stdout",
          "text": [
            "\u001b[1m42/42\u001b[0m \u001b[32m━━━━━━━━━━━━━━━━━━━━\u001b[0m\u001b[37m\u001b[0m \u001b[1m3s\u001b[0m 11ms/step - accuracy: 0.2861 - loss: 2.6875 - val_accuracy: 0.4341 - val_loss: 2.8035\n",
            "Epoch 2/50\n",
            "\u001b[1m42/42\u001b[0m \u001b[32m━━━━━━━━━━━━━━━━━━━━\u001b[0m\u001b[37m\u001b[0m \u001b[1m0s\u001b[0m 3ms/step - accuracy: 0.6566 - loss: 1.2187 - val_accuracy: 0.5705 - val_loss: 2.6012\n",
            "Epoch 3/50\n",
            "\u001b[1m42/42\u001b[0m \u001b[32m━━━━━━━━━━━━━━━━━━━━\u001b[0m\u001b[37m\u001b[0m \u001b[1m0s\u001b[0m 3ms/step - accuracy: 0.7330 - loss: 0.8890 - val_accuracy: 0.6705 - val_loss: 2.4062\n",
            "Epoch 4/50\n",
            "\u001b[1m42/42\u001b[0m \u001b[32m━━━━━━━━━━━━━━━━━━━━\u001b[0m\u001b[37m\u001b[0m \u001b[1m0s\u001b[0m 3ms/step - accuracy: 0.7604 - loss: 0.7132 - val_accuracy: 0.7273 - val_loss: 2.1842\n",
            "Epoch 5/50\n",
            "\u001b[1m42/42\u001b[0m \u001b[32m━━━━━━━━━━━━━━━━━━━━\u001b[0m\u001b[37m\u001b[0m \u001b[1m0s\u001b[0m 3ms/step - accuracy: 0.8047 - loss: 0.6369 - val_accuracy: 0.7182 - val_loss: 1.9592\n",
            "Epoch 6/50\n",
            "\u001b[1m42/42\u001b[0m \u001b[32m━━━━━━━━━━━━━━━━━━━━\u001b[0m\u001b[37m\u001b[0m \u001b[1m0s\u001b[0m 3ms/step - accuracy: 0.7959 - loss: 0.6045 - val_accuracy: 0.7932 - val_loss: 1.7066\n",
            "Epoch 7/50\n",
            "\u001b[1m42/42\u001b[0m \u001b[32m━━━━━━━━━━━━━━━━━━━━\u001b[0m\u001b[37m\u001b[0m \u001b[1m0s\u001b[0m 5ms/step - accuracy: 0.8295 - loss: 0.5311 - val_accuracy: 0.8091 - val_loss: 1.4524\n",
            "Epoch 8/50\n",
            "\u001b[1m42/42\u001b[0m \u001b[32m━━━━━━━━━━━━━━━━━━━━\u001b[0m\u001b[37m\u001b[0m \u001b[1m0s\u001b[0m 3ms/step - accuracy: 0.8407 - loss: 0.4801 - val_accuracy: 0.8091 - val_loss: 1.1969\n",
            "Epoch 9/50\n",
            "\u001b[1m42/42\u001b[0m \u001b[32m━━━━━━━━━━━━━━━━━━━━\u001b[0m\u001b[37m\u001b[0m \u001b[1m0s\u001b[0m 3ms/step - accuracy: 0.8270 - loss: 0.4681 - val_accuracy: 0.8477 - val_loss: 0.9432\n",
            "Epoch 10/50\n",
            "\u001b[1m42/42\u001b[0m \u001b[32m━━━━━━━━━━━━━━━━━━━━\u001b[0m\u001b[37m\u001b[0m \u001b[1m0s\u001b[0m 3ms/step - accuracy: 0.8606 - loss: 0.4359 - val_accuracy: 0.8386 - val_loss: 0.7783\n",
            "Epoch 11/50\n",
            "\u001b[1m42/42\u001b[0m \u001b[32m━━━━━━━━━━━━━━━━━━━━\u001b[0m\u001b[37m\u001b[0m \u001b[1m0s\u001b[0m 3ms/step - accuracy: 0.8414 - loss: 0.4183 - val_accuracy: 0.8273 - val_loss: 0.6559\n",
            "Epoch 12/50\n",
            "\u001b[1m42/42\u001b[0m \u001b[32m━━━━━━━━━━━━━━━━━━━━\u001b[0m\u001b[37m\u001b[0m \u001b[1m0s\u001b[0m 3ms/step - accuracy: 0.8421 - loss: 0.4233 - val_accuracy: 0.8432 - val_loss: 0.5345\n",
            "Epoch 13/50\n",
            "\u001b[1m42/42\u001b[0m \u001b[32m━━━━━━━━━━━━━━━━━━━━\u001b[0m\u001b[37m\u001b[0m \u001b[1m0s\u001b[0m 3ms/step - accuracy: 0.8652 - loss: 0.3834 - val_accuracy: 0.8409 - val_loss: 0.4904\n",
            "Epoch 14/50\n",
            "\u001b[1m42/42\u001b[0m \u001b[32m━━━━━━━━━━━━━━━━━━━━\u001b[0m\u001b[37m\u001b[0m \u001b[1m0s\u001b[0m 3ms/step - accuracy: 0.8578 - loss: 0.3925 - val_accuracy: 0.8409 - val_loss: 0.4709\n",
            "Epoch 15/50\n",
            "\u001b[1m42/42\u001b[0m \u001b[32m━━━━━━━━━━━━━━━━━━━━\u001b[0m\u001b[37m\u001b[0m \u001b[1m0s\u001b[0m 3ms/step - accuracy: 0.8701 - loss: 0.3714 - val_accuracy: 0.8727 - val_loss: 0.4007\n",
            "Epoch 16/50\n",
            "\u001b[1m42/42\u001b[0m \u001b[32m━━━━━━━━━━━━━━━━━━━━\u001b[0m\u001b[37m\u001b[0m \u001b[1m0s\u001b[0m 3ms/step - accuracy: 0.8798 - loss: 0.3552 - val_accuracy: 0.8591 - val_loss: 0.4119\n",
            "Epoch 17/50\n",
            "\u001b[1m42/42\u001b[0m \u001b[32m━━━━━━━━━━━━━━━━━━━━\u001b[0m\u001b[37m\u001b[0m \u001b[1m0s\u001b[0m 3ms/step - accuracy: 0.8747 - loss: 0.3486 - val_accuracy: 0.8614 - val_loss: 0.3970\n",
            "Epoch 18/50\n",
            "\u001b[1m42/42\u001b[0m \u001b[32m━━━━━━━━━━━━━━━━━━━━\u001b[0m\u001b[37m\u001b[0m \u001b[1m0s\u001b[0m 3ms/step - accuracy: 0.8630 - loss: 0.3532 - val_accuracy: 0.8568 - val_loss: 0.3664\n",
            "Epoch 19/50\n",
            "\u001b[1m42/42\u001b[0m \u001b[32m━━━━━━━━━━━━━━━━━━━━\u001b[0m\u001b[37m\u001b[0m \u001b[1m0s\u001b[0m 4ms/step - accuracy: 0.8779 - loss: 0.3353 - val_accuracy: 0.8591 - val_loss: 0.3885\n",
            "Epoch 20/50\n",
            "\u001b[1m42/42\u001b[0m \u001b[32m━━━━━━━━━━━━━━━━━━━━\u001b[0m\u001b[37m\u001b[0m \u001b[1m0s\u001b[0m 3ms/step - accuracy: 0.8908 - loss: 0.3180 - val_accuracy: 0.8568 - val_loss: 0.4064\n",
            "Epoch 21/50\n",
            "\u001b[1m42/42\u001b[0m \u001b[32m━━━━━━━━━━━━━━━━━━━━\u001b[0m\u001b[37m\u001b[0m \u001b[1m0s\u001b[0m 3ms/step - accuracy: 0.8732 - loss: 0.3468 - val_accuracy: 0.8614 - val_loss: 0.3772\n",
            "Epoch 22/50\n",
            "\u001b[1m42/42\u001b[0m \u001b[32m━━━━━━━━━━━━━━━━━━━━\u001b[0m\u001b[37m\u001b[0m \u001b[1m0s\u001b[0m 3ms/step - accuracy: 0.8779 - loss: 0.3431 - val_accuracy: 0.8591 - val_loss: 0.3726\n",
            "Epoch 23/50\n",
            "\u001b[1m42/42\u001b[0m \u001b[32m━━━━━━━━━━━━━━━━━━━━\u001b[0m\u001b[37m\u001b[0m \u001b[1m0s\u001b[0m 3ms/step - accuracy: 0.8853 - loss: 0.3066 - val_accuracy: 0.8477 - val_loss: 0.3994\n",
            "Epoch 24/50\n",
            "\u001b[1m42/42\u001b[0m \u001b[32m━━━━━━━━━━━━━━━━━━━━\u001b[0m\u001b[37m\u001b[0m \u001b[1m0s\u001b[0m 3ms/step - accuracy: 0.8922 - loss: 0.3031 - val_accuracy: 0.8591 - val_loss: 0.3695\n",
            "Epoch 25/50\n",
            "\u001b[1m42/42\u001b[0m \u001b[32m━━━━━━━━━━━━━━━━━━━━\u001b[0m\u001b[37m\u001b[0m \u001b[1m0s\u001b[0m 3ms/step - accuracy: 0.8900 - loss: 0.3140 - val_accuracy: 0.8727 - val_loss: 0.3616\n",
            "Epoch 26/50\n",
            "\u001b[1m42/42\u001b[0m \u001b[32m━━━━━━━━━━━━━━━━━━━━\u001b[0m\u001b[37m\u001b[0m \u001b[1m0s\u001b[0m 3ms/step - accuracy: 0.8854 - loss: 0.3068 - val_accuracy: 0.8591 - val_loss: 0.3651\n",
            "Epoch 27/50\n",
            "\u001b[1m42/42\u001b[0m \u001b[32m━━━━━━━━━━━━━━━━━━━━\u001b[0m\u001b[37m\u001b[0m \u001b[1m0s\u001b[0m 3ms/step - accuracy: 0.8965 - loss: 0.2914 - val_accuracy: 0.8727 - val_loss: 0.3694\n",
            "Epoch 28/50\n",
            "\u001b[1m42/42\u001b[0m \u001b[32m━━━━━━━━━━━━━━━━━━━━\u001b[0m\u001b[37m\u001b[0m \u001b[1m0s\u001b[0m 3ms/step - accuracy: 0.8778 - loss: 0.3209 - val_accuracy: 0.8636 - val_loss: 0.3674\n",
            "Epoch 29/50\n",
            "\u001b[1m42/42\u001b[0m \u001b[32m━━━━━━━━━━━━━━━━━━━━\u001b[0m\u001b[37m\u001b[0m \u001b[1m0s\u001b[0m 3ms/step - accuracy: 0.8757 - loss: 0.2955 - val_accuracy: 0.8614 - val_loss: 0.3719\n",
            "Epoch 30/50\n",
            "\u001b[1m42/42\u001b[0m \u001b[32m━━━━━━━━━━━━━━━━━━━━\u001b[0m\u001b[37m\u001b[0m \u001b[1m0s\u001b[0m 3ms/step - accuracy: 0.8927 - loss: 0.2821 - val_accuracy: 0.8705 - val_loss: 0.3641\n",
            "Epoch 31/50\n",
            "\u001b[1m42/42\u001b[0m \u001b[32m━━━━━━━━━━━━━━━━━━━━\u001b[0m\u001b[37m\u001b[0m \u001b[1m0s\u001b[0m 2ms/step - accuracy: 0.8945 - loss: 0.2808 - val_accuracy: 0.8682 - val_loss: 0.3466\n",
            "Epoch 32/50\n",
            "\u001b[1m42/42\u001b[0m \u001b[32m━━━━━━━━━━━━━━━━━━━━\u001b[0m\u001b[37m\u001b[0m \u001b[1m0s\u001b[0m 2ms/step - accuracy: 0.8938 - loss: 0.2879 - val_accuracy: 0.8568 - val_loss: 0.3724\n",
            "Epoch 33/50\n",
            "\u001b[1m42/42\u001b[0m \u001b[32m━━━━━━━━━━━━━━━━━━━━\u001b[0m\u001b[37m\u001b[0m \u001b[1m0s\u001b[0m 3ms/step - accuracy: 0.9006 - loss: 0.2782 - val_accuracy: 0.8727 - val_loss: 0.3465\n",
            "Epoch 34/50\n",
            "\u001b[1m42/42\u001b[0m \u001b[32m━━━━━━━━━━━━━━━━━━━━\u001b[0m\u001b[37m\u001b[0m \u001b[1m0s\u001b[0m 3ms/step - accuracy: 0.8968 - loss: 0.2662 - val_accuracy: 0.8568 - val_loss: 0.4045\n",
            "Epoch 35/50\n",
            "\u001b[1m42/42\u001b[0m \u001b[32m━━━━━━━━━━━━━━━━━━━━\u001b[0m\u001b[37m\u001b[0m \u001b[1m0s\u001b[0m 3ms/step - accuracy: 0.8889 - loss: 0.2925 - val_accuracy: 0.8750 - val_loss: 0.3535\n",
            "Epoch 36/50\n",
            "\u001b[1m42/42\u001b[0m \u001b[32m━━━━━━━━━━━━━━━━━━━━\u001b[0m\u001b[37m\u001b[0m \u001b[1m0s\u001b[0m 3ms/step - accuracy: 0.8901 - loss: 0.2865 - val_accuracy: 0.8682 - val_loss: 0.3440\n",
            "Epoch 37/50\n",
            "\u001b[1m42/42\u001b[0m \u001b[32m━━━━━━━━━━━━━━━━━━━━\u001b[0m\u001b[37m\u001b[0m \u001b[1m0s\u001b[0m 3ms/step - accuracy: 0.8829 - loss: 0.2956 - val_accuracy: 0.8818 - val_loss: 0.3292\n",
            "Epoch 38/50\n",
            "\u001b[1m42/42\u001b[0m \u001b[32m━━━━━━━━━━━━━━━━━━━━\u001b[0m\u001b[37m\u001b[0m \u001b[1m0s\u001b[0m 2ms/step - accuracy: 0.8821 - loss: 0.2997 - val_accuracy: 0.8659 - val_loss: 0.3899\n",
            "Epoch 39/50\n",
            "\u001b[1m42/42\u001b[0m \u001b[32m━━━━━━━━━━━━━━━━━━━━\u001b[0m\u001b[37m\u001b[0m \u001b[1m0s\u001b[0m 2ms/step - accuracy: 0.8904 - loss: 0.2760 - val_accuracy: 0.8727 - val_loss: 0.3637\n",
            "Epoch 40/50\n",
            "\u001b[1m42/42\u001b[0m \u001b[32m━━━━━━━━━━━━━━━━━━━━\u001b[0m\u001b[37m\u001b[0m \u001b[1m0s\u001b[0m 4ms/step - accuracy: 0.8968 - loss: 0.2551 - val_accuracy: 0.8727 - val_loss: 0.3610\n",
            "Epoch 41/50\n",
            "\u001b[1m42/42\u001b[0m \u001b[32m━━━━━━━━━━━━━━━━━━━━\u001b[0m\u001b[37m\u001b[0m \u001b[1m0s\u001b[0m 3ms/step - accuracy: 0.9006 - loss: 0.2656 - val_accuracy: 0.8614 - val_loss: 0.3391\n",
            "Epoch 42/50\n",
            "\u001b[1m42/42\u001b[0m \u001b[32m━━━━━━━━━━━━━━━━━━━━\u001b[0m\u001b[37m\u001b[0m \u001b[1m0s\u001b[0m 3ms/step - accuracy: 0.9107 - loss: 0.2380 - val_accuracy: 0.8727 - val_loss: 0.3297\n",
            "Epoch 43/50\n",
            "\u001b[1m42/42\u001b[0m \u001b[32m━━━━━━━━━━━━━━━━━━━━\u001b[0m\u001b[37m\u001b[0m \u001b[1m0s\u001b[0m 3ms/step - accuracy: 0.9042 - loss: 0.2411 - val_accuracy: 0.8659 - val_loss: 0.3600\n",
            "Epoch 44/50\n",
            "\u001b[1m42/42\u001b[0m \u001b[32m━━━━━━━━━━━━━━━━━━━━\u001b[0m\u001b[37m\u001b[0m \u001b[1m0s\u001b[0m 3ms/step - accuracy: 0.8946 - loss: 0.2721 - val_accuracy: 0.8705 - val_loss: 0.3466\n",
            "Epoch 45/50\n",
            "\u001b[1m42/42\u001b[0m \u001b[32m━━━━━━━━━━━━━━━━━━━━\u001b[0m\u001b[37m\u001b[0m \u001b[1m0s\u001b[0m 3ms/step - accuracy: 0.8871 - loss: 0.2764 - val_accuracy: 0.8727 - val_loss: 0.3482\n",
            "Epoch 46/50\n",
            "\u001b[1m42/42\u001b[0m \u001b[32m━━━━━━━━━━━━━━━━━━━━\u001b[0m\u001b[37m\u001b[0m \u001b[1m0s\u001b[0m 3ms/step - accuracy: 0.8990 - loss: 0.2521 - val_accuracy: 0.8727 - val_loss: 0.3539\n",
            "Epoch 47/50\n",
            "\u001b[1m42/42\u001b[0m \u001b[32m━━━━━━━━━━━━━━━━━━━━\u001b[0m\u001b[37m\u001b[0m \u001b[1m0s\u001b[0m 4ms/step - accuracy: 0.8944 - loss: 0.2787 - val_accuracy: 0.8841 - val_loss: 0.3356\n",
            "\u001b[1m14/14\u001b[0m \u001b[32m━━━━━━━━━━━━━━━━━━━━\u001b[0m\u001b[37m\u001b[0m \u001b[1m0s\u001b[0m 2ms/step - accuracy: 0.8750 - loss: 0.3679\n",
            "Test Accuracy: 0.87\n"
          ]
        },
        {
          "output_type": "display_data",
          "data": {
            "text/plain": [
              "<Figure size 640x480 with 1 Axes>"
            ],
            "image/png": "[encoded data removed]"
          },
          "metadata": {}
        }
      ]
    },
    {
      "cell_type": "code",
      "source": [
        "def predict_crop(temperature, humidity, rainfall):\n",
        "    # Validasi input terhadap rentang parameter\n",
        "    if (\n",
        "        temperature < parameter_ranges.loc['min', 'temperature'] or temperature > parameter_ranges.loc['max', 'temperature'] or\n",
        "        humidity < parameter_ranges.loc['min', 'humidity'] or humidity > parameter_ranges.loc['max', 'humidity'] or\n",
        "        rainfall < parameter_ranges.loc['min', 'rainfall'] or rainfall > parameter_ranges.loc['max', 'rainfall']\n",
        "    ):\n",
        "        print(\"Invalid input: Parameters are out of range. Please provide valid values within the dataset's range.\")\n",
        "        return\n",
        "\n",
        "    # Normalisasi input\n",
        "    new_data = [[temperature, humidity, rainfall]]\n",
        "    new_data_normalized = scaler.transform(new_data)\n",
        "    predictions = model.predict(new_data_normalized)[0]\n",
        "\n",
        "    # Tentukan rentang probabilitas\n",
        "    threshold_min = 0.1  # Minimum probabilitas\n",
        "    threshold_max = 1.0  # Maksimum probabilitas\n",
        "\n",
        "    # Filter kelas berdasarkan probabilitas\n",
        "    predictions_tensor = tf.constant(predictions, dtype=tf.float32)\n",
        "    filtered_indices = tf.where(\n",
        "        (predictions_tensor >= threshold_min) & (predictions_tensor <= threshold_max)\n",
        "    )\n",
        "    filtered_indices = tf.squeeze(filtered_indices).numpy()\n",
        "\n",
        "    # Pastikan filtered_indices iterable\n",
        "    if isinstance(filtered_indices, np.int64):\n",
        "        filtered_indices = [filtered_indices]\n",
        "\n",
        "    # Tampilkan hasil prediksi\n",
        "    if len(filtered_indices) > 0:\n",
        "        filtered_probabilities = [predictions[i] for i in filtered_indices]\n",
        "        recommended_labels = label_encoder.inverse_transform(filtered_indices)\n",
        "\n",
        "        # Gabungkan label dan probabilitas untuk diurutkan\n",
        "        results = sorted(zip(recommended_labels, filtered_probabilities), key=lambda x: x[1], reverse=True)\n",
        "\n",
        "        # Cetak hasil dengan probabilitas tertinggi di atas\n",
        "        print(\"Top Recommendations (Multiple Classes):\")\n",
        "        for i, (label, prob) in enumerate(results):\n",
        "            print(f\"{i + 1}. Crop: {label}, Probability: {prob * 100:.2f}%\")\n",
        "    else:\n",
        "        print(\"No recommendations meet the specified probability range.\")\n",
        "\n",
        "# Contoh Prediksi\n",
        "print(\"\\n=== Prediction Examples ===\")\n",
        "predict_crop(26, 70, 120)\n",
        "predict_crop(23.849575 , 81.875228,   69.611829)\n",
        "predict_crop(50, 100, 100)"
      ],
      "metadata": {
        "colab": {
          "base_uri": "https://localhost:8080/"
        },
        "id": "cFEvw20A4Vgx",
        "outputId": "c4fe708e-ca78-4ae9-d758-70605292dc1a"
      },
      "execution_count": null,
      "outputs": [
        {
          "output_type": "stream",
          "name": "stdout",
          "text": [
            "\n",
            "=== Prediction Examples ===\n",
            "\u001b[1m1/1\u001b[0m \u001b[32m━━━━━━━━━━━━━━━━━━━━\u001b[0m\u001b[37m\u001b[0m \u001b[1m0s\u001b[0m 77ms/step\n"
          ]
        },
        {
          "output_type": "stream",
          "name": "stderr",
          "text": [
            "/usr/local/lib/python3.10/dist-packages/sklearn/base.py:493: UserWarning: X does not have valid feature names, but RobustScaler was fitted with feature names\n",
            "  warnings.warn(\n"
          ]
        },
        {
          "output_type": "stream",
          "name": "stdout",
          "text": [
            "Top Recommendations (Multiple Classes):\n",
            "1. Crop: kopi, Probability: 74.26%\n",
            "\u001b[1m1/1\u001b[0m \u001b[32m━━━━━━━━━━━━━━━━━━━━\u001b[0m\u001b[37m\u001b[0m \u001b[1m0s\u001b[0m 19ms/step\n",
            "Top Recommendations (Multiple Classes):\n",
            "1. Crop: kapas, Probability: 80.92%\n",
            "2. Crop: anggur, Probability: 18.99%\n",
            "Invalid input: Parameters are out of range. Please provide valid values within the dataset's range.\n"
          ]
        },
        {
          "output_type": "stream",
          "name": "stderr",
          "text": [
            "/usr/local/lib/python3.10/dist-packages/sklearn/base.py:493: UserWarning: X does not have valid feature names, but RobustScaler was fitted with feature names\n",
            "  warnings.warn(\n"
          ]
        }
      ]
    },
    {
      "cell_type": "code",
      "source": [
        "save_model_path = \"./crops_classification.h5\"\n",
        "model.save(save_model_path)"
      ],
      "metadata": {
        "colab": {
          "base_uri": "https://localhost:8080/"
        },
        "id": "CPVOHA33ZAlU",
        "outputId": "a5723de6-5d9a-4d70-e4e9-8010f2451cb2"
      },
      "execution_count": null,
      "outputs": [
        {
          "output_type": "stream",
          "name": "stderr",
          "text": [
            "WARNING:absl:You are saving your model as an HDF5 file via `model.save()` or `keras.saving.save_model(model)`. This file format is considered legacy. We recommend using instead the native Keras format, e.g. `model.save('my_model.keras')` or `keras.saving.save_model(model, 'my_model.keras')`. \n"
          ]
        }
      ]
    },
    {
      "cell_type": "code",
      "source": [
        "!tensorflowjs_converter --input_format keras {save_model_path} ./"
      ],
      "metadata": {
        "colab": {
          "base_uri": "https://localhost:8080/"
        },
        "id": "t_qyoBQoZA8L",
        "outputId": "45836f24-3d67-4c7d-877c-8ccbebed9a49"
      },
      "execution_count": null,
      "outputs": [
        {
          "output_type": "stream",
          "name": "stdout",
          "text": [
            "/bin/bash: line 1: tensorflowjs_converter: command not found\n"
          ]
        }
      ]
    }
  ]
}